{
 "cells": [
  {
   "cell_type": "markdown",
   "metadata": {},
   "source": [
    "\n",
    "<div style=\"text-align: center;\">\n",
    "  <img src=\"https://github.com/Hack-io-Data/Imagenes/blob/main/01-LogosHackio/logo_celeste@4x.png?raw=true\" alt=\"esquema\" />\n",
    "</div>"
   ]
  },
  {
   "cell_type": "markdown",
   "metadata": {},
   "source": [
    "#### 1. Escribe una función sin parámetros que imprima el siguiente mensaje \"¡Hola! Bienvenido.\"\n"
   ]
  },
  {
   "cell_type": "code",
   "execution_count": 1,
   "metadata": {},
   "outputs": [],
   "source": [
    "def bienvenida():\n",
    "    print(\"¡Hola! Bienvenido.\")"
   ]
  },
  {
   "cell_type": "code",
   "execution_count": 2,
   "metadata": {},
   "outputs": [
    {
     "name": "stdout",
     "output_type": "stream",
     "text": [
      "¡Hola! Bienvenido.\n"
     ]
    }
   ],
   "source": [
    "bienvenida()"
   ]
  },
  {
   "cell_type": "markdown",
   "metadata": {},
   "source": [
    "#### 2. Escribe una función que reciba dos parámetros y devuelva la suma de ambos.\n"
   ]
  },
  {
   "cell_type": "code",
   "execution_count": 3,
   "metadata": {},
   "outputs": [],
   "source": [
    "def suma(num1, num2):\n",
    "    return num1+num2"
   ]
  },
  {
   "cell_type": "code",
   "execution_count": 5,
   "metadata": {},
   "outputs": [
    {
     "name": "stdout",
     "output_type": "stream",
     "text": [
      "Primer número: 3.2\n",
      "Segundo número: 6.8\n",
      "El resultado de la suma de 3.2 y 6.8 es 10.0\n"
     ]
    }
   ],
   "source": [
    "try:\n",
    "    num1 = input(\"Introduzca el primer numero: \")\n",
    "    num1 = float(num1)\n",
    "    print(f\"Primer número: {num1}\")\n",
    "\n",
    "    num2 = input(\"Introduzca el segundo numero: \")\n",
    "    num2 = float(num2)\n",
    "    print(f\"Segundo número: {num2}\")\n",
    "\n",
    "    resultado = suma(num1, num2)\n",
    "    print(f\"El resultado de la suma de {num1} y {num2} es {resultado}\")\n",
    "\n",
    "\n",
    "except ValueError:\n",
    "    print(\"Error: El valor introducido no es válido.\")"
   ]
  },
  {
   "cell_type": "markdown",
   "metadata": {},
   "source": [
    "#### 3. Escribe una función que reciba un número y devuelva True si es par, False si no lo es."
   ]
  },
  {
   "cell_type": "code",
   "execution_count": 6,
   "metadata": {},
   "outputs": [],
   "source": [
    "def esPar(num):\n",
    "    if num % 2 == 0:\n",
    "        return True\n",
    "    else:\n",
    "        return False"
   ]
  },
  {
   "cell_type": "code",
   "execution_count": 10,
   "metadata": {},
   "outputs": [
    {
     "name": "stdout",
     "output_type": "stream",
     "text": [
      "Número: 108\n",
      "El número 108 es par\n"
     ]
    }
   ],
   "source": [
    "try:\n",
    "    num1 = input(\"Introduzca un número entero: \")\n",
    "    num1 = int(num1)\n",
    "    print(f\"Número: {num1}\")\n",
    "\n",
    "\n",
    "    resultado = esPar(num1)\n",
    "    if resultado == True:\n",
    "        print(f\"El número {num1} es par\")\n",
    "    else:\n",
    "        print(f\"El número {num1} es impar\")\n",
    "\n",
    "\n",
    "except ValueError:\n",
    "    print(\"Error: El valor introducido no es válido.\")"
   ]
  },
  {
   "cell_type": "markdown",
   "metadata": {},
   "source": [
    "#### 4. Escribe un función que devuelva un saludo personalizado a una persona dado su nombre. \n"
   ]
  },
  {
   "cell_type": "code",
   "execution_count": 11,
   "metadata": {},
   "outputs": [],
   "source": [
    "def saludo(nombre):\n",
    "    cadena = \"Buenas \" + nombre + \", ¿cómo te encuentras hoy?\"\n",
    "    return cadena"
   ]
  },
  {
   "cell_type": "code",
   "execution_count": 13,
   "metadata": {},
   "outputs": [
    {
     "name": "stdout",
     "output_type": "stream",
     "text": [
      "Buenas Elena, ¿cómo te encuentras hoy?\n"
     ]
    }
   ],
   "source": [
    "try: \n",
    "    nombre = input(\"Introduzca su nombre: \")\n",
    "    nombre = str(nombre)\n",
    "    saludo_personalizado = saludo(nombre)\n",
    "    print(saludo_personalizado)\n",
    "\n",
    "except ValueError:\n",
    "    print(\"Error: El valor introducido no es válido.\")"
   ]
  },
  {
   "cell_type": "markdown",
   "metadata": {},
   "source": [
    "#### 5. Escribe una función que sume todos los números que reciba como argumento. La función debe recibir una cantidad variable de argumentos y devolver la suma de todos ellos."
   ]
  },
  {
   "cell_type": "code",
   "execution_count": 24,
   "metadata": {},
   "outputs": [],
   "source": [
    "def sumaVariable(*nums):\n",
    "    suma = 0\n",
    "    for num in nums:\n",
    "        suma += num\n",
    "\n",
    "    return suma"
   ]
  },
  {
   "cell_type": "code",
   "execution_count": 27,
   "metadata": {},
   "outputs": [
    {
     "name": "stdout",
     "output_type": "stream",
     "text": [
      "La suma de los elementos introducidos es: 15\n"
     ]
    }
   ],
   "source": [
    "suma = sumaVariable(1,2,3,4,5)\n",
    "print(f\"La suma de los elementos introducidos es: {suma}\")"
   ]
  },
  {
   "cell_type": "markdown",
   "metadata": {},
   "source": [
    "#### 6. Escribe una función que cuente las letras de una palabra y devuelva un diccionario con la cantidad de veces que se repite cada letra \n"
   ]
  },
  {
   "cell_type": "code",
   "execution_count": 34,
   "metadata": {},
   "outputs": [],
   "source": [
    "def contador(palabra):\n",
    "    resultado = dict()\n",
    "    for letra in palabra.lower():\n",
    "        if letra in resultado:\n",
    "            resultado[letra] += 1\n",
    "        else:\n",
    "            resultado[letra] = 1\n",
    "    \n",
    "    return resultado"
   ]
  },
  {
   "cell_type": "code",
   "execution_count": 35,
   "metadata": {},
   "outputs": [
    {
     "data": {
      "text/plain": [
       "{'b': 1, 'i': 2, 'e': 2, 'n': 2, 'v': 1, 'd': 1, 'a': 1}"
      ]
     },
     "execution_count": 35,
     "metadata": {},
     "output_type": "execute_result"
    }
   ],
   "source": [
    "res = contador(\"Bienvenida\")\n",
    "res"
   ]
  },
  {
   "cell_type": "markdown",
   "metadata": {},
   "source": [
    "#### 7. Escribe un función recursiva para calcular el factorial de un número entero no negativo."
   ]
  },
  {
   "cell_type": "code",
   "execution_count": 37,
   "metadata": {},
   "outputs": [],
   "source": [
    "def factorial(n):\n",
    "    if n == 1:\n",
    "        return 1\n",
    "    \n",
    "    return n*factorial(n-1)"
   ]
  },
  {
   "cell_type": "code",
   "execution_count": 41,
   "metadata": {},
   "outputs": [
    {
     "name": "stdout",
     "output_type": "stream",
     "text": [
      "Número introducido: 5\n",
      "El factorial de 5 es 120\n"
     ]
    }
   ],
   "source": [
    "try: \n",
    "    num = input(\"Introduzca el primer numero: \")\n",
    "    num = int(num)\n",
    "    print(f\"Número introducido: {num}\")\n",
    "\n",
    "    if num < 0:\n",
    "        print(\"El número debe ser positivo\")\n",
    "\n",
    "    fact = factorial(num)\n",
    "    print(f\"El factorial de {num} es {fact}\")\n",
    "\n",
    "except ValueError:\n",
    "    print(\"Error: El valor introducido no es válido.\")"
   ]
  },
  {
   "cell_type": "markdown",
   "metadata": {},
   "source": [
    "#### 8. Escribe una función que tome dos parámetros: `figura` (una cadena que puede ser `\"rectangulo\"`, `\"circulo\"` o `\"triangulo\"`) y `datos` (una tupla con los datos necesarios para calcular el área de la figura). "
   ]
  },
  {
   "cell_type": "code",
   "execution_count": 50,
   "metadata": {},
   "outputs": [],
   "source": [
    "def area(forma, datos):\n",
    "    if forma == \"rectangulo\":\n",
    "        return datos[0]*datos[1]\n",
    "    if forma == \"circulo\":\n",
    "        return datos[0]*datos[1]*datos[1]\n",
    "    if forma == \"triangulo\":\n",
    "        return datos[0]*datos[1]/2"
   ]
  },
  {
   "cell_type": "code",
   "execution_count": 51,
   "metadata": {},
   "outputs": [
    {
     "name": "stdout",
     "output_type": "stream",
     "text": [
      "El area del rectangulo es: 50\n",
      "El area del circulo es: 78.5\n",
      "El area del triangulo es: 25.0\n"
     ]
    }
   ],
   "source": [
    "area_rectangulo = area(\"rectangulo\", [10,5])\n",
    "area_circulo = area(\"circulo\", [3.14,5])\n",
    "area_triangulo = area(\"triangulo\", [10,5])\n",
    "\n",
    "print(f\"El area del rectangulo es: {area_rectangulo}\")\n",
    "print(f\"El area del circulo es: {area_circulo}\")\n",
    "print(f\"El area del triangulo es: {area_triangulo}\")"
   ]
  },
  {
   "cell_type": "markdown",
   "metadata": {},
   "source": [
    "#### 9. Escribe una función que tome una lista de números como parámetro y devuelva el número más grande de la lista. No utilices la función `max()` de Python en tu solución."
   ]
  },
  {
   "cell_type": "code",
   "execution_count": 17,
   "metadata": {},
   "outputs": [],
   "source": [
    "def comaparaNums(*nums):\n",
    "    max = nums[0]\n",
    "    for param in nums:\n",
    "        if param > max:\n",
    "            max = param  \n",
    "    return max"
   ]
  },
  {
   "cell_type": "code",
   "execution_count": 20,
   "metadata": {},
   "outputs": [
    {
     "name": "stdout",
     "output_type": "stream",
     "text": [
      "El valor máximo es:  9\n"
     ]
    }
   ],
   "source": [
    "res = comaparaNums(7,3,4,9,1)\n",
    "print(\"El valor máximo es: \", res)"
   ]
  },
  {
   "cell_type": "markdown",
   "metadata": {},
   "source": [
    "#### 10. Escribe una función que tome una cadena como parámetro un texto y devuelva `True` si la cadena es un palíndromo (se lee igual de izquierda a derecha que de derecha a izquierda), y `False` en caso contrario. Ignora los espacios y considera mayúsculas y minúsculas de manera insensible.\n"
   ]
  },
  {
   "cell_type": "code",
   "execution_count": 26,
   "metadata": {},
   "outputs": [],
   "source": [
    "def esPalindromo(palabra):\n",
    "    \n",
    "    palabra = palabra.lower()\n",
    "    palabra = palabra.replace(\" \", \"\")\n",
    "\n",
    "    if len(palabra) % 2 == 0:\n",
    "        fin=len(palabra)/2\n",
    "    else:\n",
    "        fin=(len(palabra)-1)/2\n",
    "\n",
    "    j= len(palabra)-1\n",
    "\n",
    "    for i in range(int(fin)):\n",
    "        if palabra[i] != palabra[j]:\n",
    "            return False\n",
    "        else:\n",
    "            j -= 1\n",
    "    return True"
   ]
  },
  {
   "cell_type": "code",
   "execution_count": 28,
   "metadata": {},
   "outputs": [
    {
     "data": {
      "text/plain": [
       "True"
      ]
     },
     "execution_count": 28,
     "metadata": {},
     "output_type": "execute_result"
    }
   ],
   "source": [
    "esPalindromo(\"co ioc \")"
   ]
  },
  {
   "cell_type": "markdown",
   "metadata": {},
   "source": [
    "#### 11. Escribe una función que tome una cadena como parámetro y devuelva dos valores: la cantidad de vocales y la cantidad de consonantes presentes en la cadena. Ignora los espacios y considera mayúsculas y minúsculas de manera insensible.\n"
   ]
  },
  {
   "cell_type": "code",
   "execution_count": 29,
   "metadata": {},
   "outputs": [],
   "source": [
    "def contadorletras(palabra):\n",
    "    \n",
    "    palabra = palabra.lower()\n",
    "    palabra = palabra.replace(\" \", \"\")\n",
    "\n",
    "    vocales = ('a','e','i','o','u')\n",
    "\n",
    "    num_vocales = 0\n",
    "    num_consonantes = 0\n",
    "\n",
    "    for letra in palabra:\n",
    "        if letra in vocales:\n",
    "            num_vocales += 1\n",
    "        else:\n",
    "            num_consonantes += 1\n",
    "    \n",
    "    return num_vocales, num_consonantes"
   ]
  },
  {
   "cell_type": "code",
   "execution_count": 33,
   "metadata": {},
   "outputs": [
    {
     "name": "stdout",
     "output_type": "stream",
     "text": [
      "Numero de vocales:  4\n",
      "Numero de consonantes:  6\n"
     ]
    }
   ],
   "source": [
    "v,c = contadorletras(\"Holas hello\")\n",
    "print(\"Numero de vocales: \", v)\n",
    "print(\"Numero de consonantes: \", c)"
   ]
  }
 ],
 "metadata": {
  "kernelspec": {
   "display_name": "hackio",
   "language": "python",
   "name": "python3"
  },
  "language_info": {
   "codemirror_mode": {
    "name": "ipython",
    "version": 3
   },
   "file_extension": ".py",
   "mimetype": "text/x-python",
   "name": "python",
   "nbconvert_exporter": "python",
   "pygments_lexer": "ipython3",
   "version": "3.12.4"
  }
 },
 "nbformat": 4,
 "nbformat_minor": 2
}
