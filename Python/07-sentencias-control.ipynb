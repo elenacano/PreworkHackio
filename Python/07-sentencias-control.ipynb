{
 "cells": [
  {
   "cell_type": "markdown",
   "metadata": {},
   "source": [
    "<div style=\"text-align: center;\">\n",
    "  <img src=\"https://github.com/Hack-io-Data/Imagenes/blob/main/01-LogosHackio/logo_celeste@4x.png?raw=true\" alt=\"logo hack(io)\" />\n",
    "</div>"
   ]
  },
  {
   "cell_type": "markdown",
   "metadata": {},
   "source": [
    "#### 1. Escribe un programa que determine si un número es par o impar.\n",
    "\n"
   ]
  },
  {
   "cell_type": "code",
   "execution_count": 45,
   "metadata": {},
   "outputs": [
    {
     "name": "stdout",
     "output_type": "stream",
     "text": [
      "El número 56 es par\n"
     ]
    }
   ],
   "source": [
    "numero = input(\"Por favor, ingresa un número: \")\n",
    "numero = int(numero)\n",
    "if numero % 2 == 0:\n",
    "    print(f\"El número {numero} es par\")\n",
    "else: \n",
    "    print(f\"El número {numero} es impar\")"
   ]
  },
  {
   "cell_type": "markdown",
   "metadata": {},
   "source": [
    "#### 2. Genera un programa que nos diga si es de noche, de día o tarde según la hora proporcionada por el usuario."
   ]
  },
  {
   "cell_type": "code",
   "execution_count": 12,
   "metadata": {},
   "outputs": [
    {
     "name": "stdout",
     "output_type": "stream",
     "text": [
      "['03', '20']\n",
      "Buenas noches!\n"
     ]
    }
   ],
   "source": [
    "hora = input(\"Por favor, ingresa la hora en formato HH:MM\")\n",
    "hora = str(hora)\n",
    "hora = hora.split(\":\")\n",
    "print(hora)\n",
    "hora = int(hora[0])\n",
    "if hora > 23:\n",
    "    print(\"La hora no es válida\")\n",
    "else:\n",
    "    if 6 <= hora <= 11:\n",
    "        print(\"Buenos días!\")\n",
    "    elif 12 <= hora <= 20:\n",
    "        print(\"Buenas tardes!\")\n",
    "    elif 20 <= hora <= 23 or 0 <= hora <= 5:\n",
    "        print(\"Buenas noches!\")\n",
    "    else:\n",
    "        print(\"La hora no es válida\")"
   ]
  },
  {
   "cell_type": "markdown",
   "metadata": {},
   "source": [
    "#### 3. Dado un nombre imprime un saludo personalizado."
   ]
  },
  {
   "cell_type": "code",
   "execution_count": 14,
   "metadata": {},
   "outputs": [
    {
     "name": "stdout",
     "output_type": "stream",
     "text": [
      "Buenas Elena, ¿qué tal te encuentras hoy?\n"
     ]
    }
   ],
   "source": [
    "nombre = input(\"Por favor, ingresa tu nombre: \")\n",
    "nombre = str(nombre)\n",
    "print(f\"Buenas {nombre}, ¿qué tal te encuentras hoy?\")"
   ]
  },
  {
   "cell_type": "markdown",
   "metadata": {},
   "source": [
    "#### 4. Escribe un programa que determine qué calificación en texto tiene un alumno en base a su calificación numérica. Las reglas de calificación son: \n",
    "\n",
    "- 0 - 69 insuficiente\n",
    "\n",
    "- 70 - 79 bien\n",
    "\n",
    "- 80 - 89 muy bien\n",
    "\n",
    "- 90 - 100 excelente\n"
   ]
  },
  {
   "cell_type": "code",
   "execution_count": 16,
   "metadata": {},
   "outputs": [
    {
     "name": "stdout",
     "output_type": "stream",
     "text": [
      "Su nota es: EXCELENTE\n"
     ]
    }
   ],
   "source": [
    "nota = input(\"Por favor, ingrese la nota\")\n",
    "nota = int(nota)\n",
    "if 0 <= nota <= 69:\n",
    "    print(\"Su nota es: INSUFICIENTE\")\n",
    "elif 70 <= nota <= 79:\n",
    "    print(\"Su nota es: BIEN\")\n",
    "elif 80 <= nota <= 89:\n",
    "    print(\"Su nota es: MUY BIEN\")\n",
    "elif 90 <= nota <= 100:\n",
    "    print(\"Su nota es: EXCELENTE\")\n",
    "else:\n",
    "    print(\"La nota ingresada no es válida\")"
   ]
  },
  {
   "cell_type": "markdown",
   "metadata": {},
   "source": [
    "#### 5. Escribe un programa que imprima el día de la semana, dado un número del 1 al 7.\n"
   ]
  },
  {
   "cell_type": "code",
   "execution_count": 18,
   "metadata": {},
   "outputs": [
    {
     "name": "stdout",
     "output_type": "stream",
     "text": [
      "Hoy es martes\n"
     ]
    }
   ],
   "source": [
    "dia = input(\"Indique del 1 al 7 que día de la semana es hoy\")\n",
    "dia = int(dia)\n",
    "if dia == 1:\n",
    "    print(\"Hoy es lunes\")\n",
    "elif dia == 2:\n",
    "    print(\"Hoy es martes\")\n",
    "elif dia == 3:\n",
    "    print(\"Hoy es miécoles\")\n",
    "elif dia == 4:\n",
    "    print(\"Hoy es jueves\")\n",
    "elif dia == 5:\n",
    "    print(\"Hoy es viernes\")\n",
    "elif dia == 6:\n",
    "    print(\"Hoy es sábado\")\n",
    "elif dia == 7:\n",
    "    print(\"Hoy es domingo\")\n",
    "else:\n",
    "    print(\"El día ingresado no es válido\")"
   ]
  },
  {
   "cell_type": "markdown",
   "metadata": {},
   "source": [
    "#### 6. Escribe un programa que determine si un número es positivo, negativo o cero."
   ]
  },
  {
   "cell_type": "code",
   "execution_count": 35,
   "metadata": {},
   "outputs": [
    {
     "name": "stdout",
     "output_type": "stream",
     "text": [
      "El número 67 es positivo\n"
     ]
    }
   ],
   "source": [
    "try:\n",
    "    num = input(\"Ingrese un número positivo, negativo o cero\")\n",
    "    num = str(num)\n",
    "    if \"-\" in num:\n",
    "        print(f\"El número {num} es negativo\")\n",
    "    elif 0 == int(num):\n",
    "        print(\"El número es 0\")\n",
    "    elif int(num)>0:\n",
    "        print(f\"El número {num} es positivo\")\n",
    "\n",
    "except ValueError:\n",
    "    print(\"Error: El valor introducido no es un número válido.\")"
   ]
  },
  {
   "cell_type": "markdown",
   "metadata": {},
   "source": [
    "#### 7. Escribe un programa que determine si una persona puede conducir o no. La edad mínima para conducir es 18 años. \n"
   ]
  },
  {
   "cell_type": "code",
   "execution_count": 38,
   "metadata": {},
   "outputs": [
    {
     "name": "stdout",
     "output_type": "stream",
     "text": [
      "Felicidades, puedes conducir!\n"
     ]
    }
   ],
   "source": [
    "try:\n",
    "    edad = input(\"Ingrese su edad: \")\n",
    "    edad = int(edad)\n",
    "\n",
    "    if edad > 17:\n",
    "        print(\"Felicidades, puedes conducir!\")\n",
    "    else:\n",
    "        print(\"Aún no puedes conducir, espera a los 18.\")\n",
    "\n",
    "except ValueError:\n",
    "    print(\"Error: El valor introducido no es una edad válida.\")"
   ]
  },
  {
   "cell_type": "markdown",
   "metadata": {},
   "source": [
    "#### 8. Escribe un programa que determine si un estudiante aprobó o suspendió un examen."
   ]
  },
  {
   "cell_type": "code",
   "execution_count": 43,
   "metadata": {},
   "outputs": [
    {
     "name": "stdout",
     "output_type": "stream",
     "text": [
      "Suspenso, estudia más para la próxima\n"
     ]
    }
   ],
   "source": [
    "try:\n",
    "    nota = input(\"Ingrese su nota: \")\n",
    "    nota = float(nota)\n",
    "\n",
    "    if 10 >= nota >= 5:\n",
    "        print(\"Felicidades, has aprobado!\")\n",
    "    elif 5 > nota >= 0:\n",
    "        print(\"Suspenso, estudia más para la próxima.\")\n",
    "    else:\n",
    "        print(\"El valor introducido no se encuentra entre 0 y 10.\")\n",
    "\n",
    "\n",
    "except ValueError:\n",
    "    print(\"Error: El valor introducido no es un número válido.\")"
   ]
  },
  {
   "cell_type": "markdown",
   "metadata": {},
   "source": [
    "#### 9. Escribe un programa que determine si un número es múltiplo de 3 y 5.\n"
   ]
  },
  {
   "cell_type": "code",
   "execution_count": 50,
   "metadata": {},
   "outputs": [
    {
     "name": "stdout",
     "output_type": "stream",
     "text": [
      "El número 45 SI es mútiplo de 3 y 5\n"
     ]
    }
   ],
   "source": [
    "numero = input(\"Por favor, ingresa un número: \")\n",
    "numero = int(numero)\n",
    "if numero % 3 == 0 and numero % 5 == 0:\n",
    "    print(f\"El número {numero} SI es mútiplo de 3 y 5\")\n",
    "else: \n",
    "    print(f\"El número {numero} NO es mútiplo de 3 y 5\")"
   ]
  }
 ],
 "metadata": {
  "kernelspec": {
   "display_name": "hackio",
   "language": "python",
   "name": "python3"
  },
  "language_info": {
   "codemirror_mode": {
    "name": "ipython",
    "version": 3
   },
   "file_extension": ".py",
   "mimetype": "text/x-python",
   "name": "python",
   "nbconvert_exporter": "python",
   "pygments_lexer": "ipython3",
   "version": "3.12.4"
  }
 },
 "nbformat": 4,
 "nbformat_minor": 2
}
