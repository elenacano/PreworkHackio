{
 "cells": [
  {
   "cell_type": "markdown",
   "metadata": {},
   "source": [
    "<div style=\"text-align: center;\">\n",
    "  <img src=\"https://github.com/Hack-io-Data/Imagenes/blob/main/01-LogosHackio/logo_celeste@4x.png?raw=true\" alt=\"logo hack(io)\" />\n",
    "</div>"
   ]
  },
  {
   "cell_type": "markdown",
   "metadata": {},
   "source": [
    "####  1. Genera una lista de números del 0 al 4 y luego imprime cada número en la lista usando un `bucle for`. "
   ]
  },
  {
   "cell_type": "code",
   "execution_count": 1,
   "metadata": {},
   "outputs": [
    {
     "name": "stdout",
     "output_type": "stream",
     "text": [
      "0\n",
      "1\n",
      "2\n",
      "3\n",
      "4\n"
     ]
    }
   ],
   "source": [
    "lista = [0,1,2,3,4]\n",
    "for i in lista:\n",
    "    print(i)"
   ]
  },
  {
   "cell_type": "markdown",
   "metadata": {},
   "source": [
    "#### 2. Itera sobre una lista de frutas y muestra cada fruta en mayúsculas. \n"
   ]
  },
  {
   "cell_type": "code",
   "execution_count": 2,
   "metadata": {},
   "outputs": [
    {
     "data": {
      "text/plain": [
       "['PERA', 'MANZANA', 'MELOCOTON']"
      ]
     },
     "execution_count": 2,
     "metadata": {},
     "output_type": "execute_result"
    }
   ],
   "source": [
    "frutas = [\"pera\", \"manzana\", \"melocoton\"]\n",
    "frutas_upper = [fruta.upper() for fruta in frutas]\n",
    "frutas_upper"
   ]
  },
  {
   "cell_type": "markdown",
   "metadata": {},
   "source": [
    "####  3. Genera un bucle while que imprima los números del 0 al 4. \n"
   ]
  },
  {
   "cell_type": "code",
   "execution_count": 3,
   "metadata": {},
   "outputs": [
    {
     "name": "stdout",
     "output_type": "stream",
     "text": [
      "0\n",
      "1\n",
      "2\n",
      "3\n",
      "4\n"
     ]
    }
   ],
   "source": [
    "num = 0\n",
    "while num < 5:\n",
    "    print(num)\n",
    "    num += 1"
   ]
  },
  {
   "cell_type": "markdown",
   "metadata": {},
   "source": [
    "#### 4. Genera un bucle del 0 al 9, pero que se detenga en el 5.\n"
   ]
  },
  {
   "cell_type": "code",
   "execution_count": 5,
   "metadata": {},
   "outputs": [
    {
     "name": "stdout",
     "output_type": "stream",
     "text": [
      "0\n",
      "1\n",
      "2\n",
      "3\n",
      "4\n",
      "5\n"
     ]
    }
   ],
   "source": [
    "for i in range(10):\n",
    "    print(i)\n",
    "    if i == 5:\n",
    "        break"
   ]
  },
  {
   "cell_type": "markdown",
   "metadata": {},
   "source": [
    "#### 5. Recorre los números del 0 al 9 e imprime solo los números impares."
   ]
  },
  {
   "cell_type": "code",
   "execution_count": 10,
   "metadata": {},
   "outputs": [
    {
     "name": "stdout",
     "output_type": "stream",
     "text": [
      "1\n",
      "3\n",
      "5\n",
      "7\n",
      "9\n"
     ]
    }
   ],
   "source": [
    "for i in range(0,10,2):\n",
    "    i+=1\n",
    "    print(i)"
   ]
  },
  {
   "cell_type": "markdown",
   "metadata": {},
   "source": [
    "#### 6. Dada la lista `[10, 20, 30, 40, 50]`, calcula la suma de todos los elementos usando un bucle `for`."
   ]
  },
  {
   "cell_type": "code",
   "execution_count": 11,
   "metadata": {},
   "outputs": [
    {
     "name": "stdout",
     "output_type": "stream",
     "text": [
      "La suma de los elementos de la lista es  150\n"
     ]
    }
   ],
   "source": [
    "lista = [10, 20, 30, 40, 50]\n",
    "suma = 0\n",
    "for i in lista:\n",
    "    suma += i\n",
    "print(f\"La suma de los elementos de la lista es  {suma}\")"
   ]
  },
  {
   "cell_type": "markdown",
   "metadata": {},
   "source": [
    "#### 7. Dada la cadena `\"Hola mundo\"`, cuenta cuántas veces aparecen las vocales (`a`, `e`, `i`, `o`, `u`) usando un bucle `for`.\n"
   ]
  },
  {
   "cell_type": "code",
   "execution_count": 16,
   "metadata": {},
   "outputs": [
    {
     "name": "stdout",
     "output_type": "stream",
     "text": [
      "Hay 4 vocales en la cadena Hola mundo\n"
     ]
    }
   ],
   "source": [
    "cadena = \"Hola mundo\"\n",
    "vocales = (\"a\", \"e\", \"i\", \"o\", \"u\")\n",
    "resultado = 0\n",
    "for i in cadena:\n",
    "    if i in vocales:\n",
    "        resultado += 1\n",
    "\n",
    "print(f\"Hay {resultado} vocales en la cadena {cadena}\")"
   ]
  },
  {
   "cell_type": "markdown",
   "metadata": {},
   "source": [
    "#### 8. Dada la cadena `\"Python\"`, usa un bucle `for` para imprimir los caracteres en orden inverso (`n`, `o`, `h`, `t`, `y`, `P`).\n"
   ]
  },
  {
   "cell_type": "code",
   "execution_count": 19,
   "metadata": {},
   "outputs": [
    {
     "name": "stdout",
     "output_type": "stream",
     "text": [
      "n\n",
      "o\n",
      "h\n",
      "t\n",
      "y\n",
      "P\n"
     ]
    }
   ],
   "source": [
    "cadena = \"Python\"\n",
    "for caracter in reversed(cadena):\n",
    "    print(caracter)"
   ]
  },
  {
   "cell_type": "markdown",
   "metadata": {},
   "source": [
    "#### 9. Dada la lista `[1, 2, 3, 4, 5]`, multiplica todos sus elementos usando un bucle `for` y almacena los resultados en una lista nueva. \n"
   ]
  },
  {
   "cell_type": "code",
   "execution_count": 23,
   "metadata": {},
   "outputs": [
    {
     "name": "stdout",
     "output_type": "stream",
     "text": [
      "[1, 2, 3, 4, 5, 2, 4, 6, 8, 10, 3, 6, 9, 12, 15, 4, 8, 12, 16, 20, 5, 10, 15, 20, 25]\n"
     ]
    }
   ],
   "source": [
    "lista = [1,2,3,4,5]\n",
    "nueva = []\n",
    "for i in range(len(lista)):\n",
    "    for j in range(len(lista)):\n",
    "        nueva.append(lista[i] * lista[j])\n",
    "print(nueva)"
   ]
  },
  {
   "cell_type": "markdown",
   "metadata": {},
   "source": [
    "#### 10. Dada la lista `[1, 2, 3, 4, 5, 6, 7, 8, 9, 10]`, utiliza un bucle `for` para contar cuántos números son pares y cuántos son impares."
   ]
  },
  {
   "cell_type": "code",
   "execution_count": 24,
   "metadata": {},
   "outputs": [
    {
     "name": "stdout",
     "output_type": "stream",
     "text": [
      "Hay 5 pares y 5 impares\n"
     ]
    }
   ],
   "source": [
    "lista = [1, 2, 3, 4, 5, 6, 7, 8, 9, 10]\n",
    "pares = 0\n",
    "impares = 0\n",
    "\n",
    "for i in lista:\n",
    "    if i % 2 == 0:\n",
    "        pares +=1\n",
    "    else:\n",
    "        impares +=1\n",
    "\n",
    "print(f\"Hay {pares} pares y {impares} impares\")"
   ]
  },
  {
   "cell_type": "markdown",
   "metadata": {},
   "source": [
    "#### 11. Escribe un programa que solicite al usuario un número entero positivo (`n`) y calcule la suma de todos los números primos menores o iguales a `n`. Utiliza un bucle `for` para iterar sobre cada número y verifica si es primo."
   ]
  },
  {
   "cell_type": "code",
   "execution_count": 38,
   "metadata": {},
   "outputs": [
    {
     "name": "stdout",
     "output_type": "stream",
     "text": [
      "La suma es 41\n"
     ]
    }
   ],
   "source": [
    "from sympy import isprime\n",
    "try:\n",
    "    num = input(\"Por favor introduzca un número entero positivo\")\n",
    "    num = int(num)\n",
    "    suma = 0\n",
    "\n",
    "    if num < 1:\n",
    "        print(\"El número debe ser positivo\")\n",
    "    else:\n",
    "        for i in range(num+1):\n",
    "            if isprime(i):\n",
    "                suma += i\n",
    "    \n",
    "    print(f\"La suma es {suma}\")\n",
    "\n",
    "except ValueError:\n",
    "    print(\"Error: El valor introducido no es un número válido.\")"
   ]
  },
  {
   "cell_type": "markdown",
   "metadata": {},
   "source": [
    "#### 12. Escribe un programa que solicite al usuario un número entero positivo (`n`) y luego imprima un patrón de asteriscos como el siguiente ejemplo para `n = 5`:\n",
    "```\n",
    "*\n",
    "**\n",
    "***\n",
    "****\n",
    "*****\n",
    "```\n",
    "Utiliza un bucle `for` anidado para controlar la cantidad de asteriscos en cada línea."
   ]
  },
  {
   "cell_type": "code",
   "execution_count": 41,
   "metadata": {},
   "outputs": [
    {
     "name": "stdout",
     "output_type": "stream",
     "text": [
      "*\n",
      "**\n",
      "***\n",
      "****\n",
      "*****\n",
      "******\n",
      "*******\n"
     ]
    }
   ],
   "source": [
    "try:\n",
    "    num = input(\"Por favor introduzca un número entero positivo\")\n",
    "    num = int(num)\n",
    "    cadena = '*'\n",
    "\n",
    "    for i in range(1, num+1):\n",
    "        print(cadena)\n",
    "        cadena += '*'\n",
    "\n",
    "except ValueError:\n",
    "    print(\"Error: El valor introducido no es un número válido.\")"
   ]
  },
  {
   "cell_type": "markdown",
   "metadata": {},
   "source": [
    "#### 13. Dado un texto, utiliza un bucle `for` para contar cuántas veces aparece cada palabra en el texto. Ignora mayúsculas/minúsculas y los signos de puntuación."
   ]
  },
  {
   "cell_type": "code",
   "execution_count": 54,
   "metadata": {},
   "outputs": [
    {
     "name": "stdout",
     "output_type": "stream",
     "text": [
      "En un pequeño pueblo costero la vida en el pueblo costero transcurre con calma y belleza\n"
     ]
    },
    {
     "data": {
      "text/plain": [
       "{'en': 2,\n",
       " 'un': 1,\n",
       " 'pequeño': 1,\n",
       " 'pueblo': 2,\n",
       " 'costero': 2,\n",
       " 'la': 1,\n",
       " 'vida': 1,\n",
       " 'el': 1,\n",
       " 'transcurre': 1,\n",
       " 'con': 1,\n",
       " 'calma': 1,\n",
       " 'y': 1,\n",
       " 'belleza': 1}"
      ]
     },
     "execution_count": 54,
     "metadata": {},
     "output_type": "execute_result"
    }
   ],
   "source": [
    "import string\n",
    "\n",
    "texto = \"En un pequeño pueblo costero, la vida en el pueblo costero transcurre con calma y belleza.\"\n",
    "\n",
    "tabla_traduccion = str.maketrans('', '', string.punctuation)\n",
    "texto_sin_puntuacion = texto.translate(tabla_traduccion)\n",
    "print(texto_sin_puntuacion)\n",
    "\n",
    "texto2 = texto_sin_puntuacion.lower().split()\n",
    "contador = dict()\n",
    "\n",
    "for palabra in texto2:\n",
    "    if palabra in contador:\n",
    "        contador[palabra] += 1\n",
    "    else:\n",
    "        contador[palabra] = 1\n",
    "\n",
    "contador"
   ]
  },
  {
   "cell_type": "markdown",
   "metadata": {},
   "source": [
    "#### 14. Escribe un programa que solicite al usuario dos números enteros positivos (`inicio` y `fin`, donde `inicio <= fin`) y luego calcule la suma de los números pares y la suma de los números impares en ese rango. Utiliza un bucle `for` para iterar sobre cada número y una estructura `if-else` para clasificar y sumar los números pares e impares."
   ]
  },
  {
   "cell_type": "code",
   "execution_count": 58,
   "metadata": {},
   "outputs": [
    {
     "name": "stdout",
     "output_type": "stream",
     "text": [
      "Primer número: 9\n",
      "Segundo número: 2\n",
      "La suma de los números pares es 20 y la suma de los impares es 15\n"
     ]
    }
   ],
   "source": [
    "try:\n",
    "    num1 = input(\"Introduzca el primer numero: \")\n",
    "    num1 = int(num1)\n",
    "    print(f\"Primer número: {num1}\")\n",
    "    num2 = input(\"Introduzca el segundo numero: \")\n",
    "    num2 = int(num2)\n",
    "    print(f\"Segundo número: {num2}\")\n",
    "    if num1 <1 or num2 <1:\n",
    "        print(\"Ambos números deben ser enteros y positivos\")\n",
    "    else:\n",
    "        if num1 < num2:\n",
    "            inicio = num1\n",
    "            fin = num2\n",
    "        else:\n",
    "            inicio = num2\n",
    "            fin = num1\n",
    "\n",
    "        suma_pares = 0\n",
    "        suma_impares = 0\n",
    "\n",
    "        for i in range(inicio,fin):\n",
    "            if i % 2 == 0:\n",
    "                suma_pares += i\n",
    "            else:\n",
    "                suma_impares += i\n",
    "\n",
    "        print(f\"La suma de los números pares es {suma_pares} y la suma de los impares es {suma_impares}\")\n",
    "\n",
    "\n",
    "except ValueError:\n",
    "    print(\"Error: El número debe ser entero y positivo\")"
   ]
  },
  {
   "cell_type": "markdown",
   "metadata": {},
   "source": [
    "#### 15. Escribe un programa que solicite al usuario un número entero positivo (`n`) y luego identifique todos los números primos menores o iguales a `n`. Para cada número, imprime si es primo o no usando un bucle `for` y una estructura `if-else` para verificar la condición de primalidad."
   ]
  },
  {
   "cell_type": "code",
   "execution_count": 60,
   "metadata": {},
   "outputs": [
    {
     "name": "stdout",
     "output_type": "stream",
     "text": [
      "El número 0 NO es primo\n",
      "El número 1 NO es primo\n",
      "El número 2 SI es primo\n",
      "El número 3 SI es primo\n",
      "El número 4 NO es primo\n",
      "El número 5 SI es primo\n",
      "El número 6 NO es primo\n",
      "El número 7 SI es primo\n",
      "El número 8 NO es primo\n"
     ]
    }
   ],
   "source": [
    "from sympy import isprime\n",
    "try:\n",
    "    num = input(\"Por favor introduzca un número entero positivo\")\n",
    "    num = int(num)\n",
    "\n",
    "    if num < 1:\n",
    "        print(\"El número debe ser positivo\")\n",
    "    else:\n",
    "        for i in range(num+1):\n",
    "            if isprime(i):\n",
    "                print(f\"El número {i} SI es primo\")\n",
    "            else:\n",
    "                print(f\"El número {i} NO es primo\")\n",
    "    \n",
    "except ValueError:\n",
    "    print(\"Error: El valor introducido no es un número válido.\")"
   ]
  },
  {
   "cell_type": "markdown",
   "metadata": {},
   "source": [
    "#### 16.Dada una lista de precios `[100, 200, 300, 400, 500]`, aplica un descuento del 10% a todos los precios mayores a `250`. Imprime la lista actualizada de precios después de aplicar el descuento utilizando un bucle `for`. "
   ]
  },
  {
   "cell_type": "code",
   "execution_count": 65,
   "metadata": {},
   "outputs": [
    {
     "name": "stdout",
     "output_type": "stream",
     "text": [
      "Los precios con el descuento aplicado don los siguientes: [100, 200, 270, 360, 450]\n"
     ]
    }
   ],
   "source": [
    "precios = [100, 200, 300, 400, 500]\n",
    "precios_descuento = []\n",
    "\n",
    "for item in precios:\n",
    "    if item > 250:\n",
    "        item = item* 0.9\n",
    "    precios_descuento.append(int(item))\n",
    "\n",
    "print(f\"Los precios con el descuento aplicado don los siguientes: {precios_descuento}\")"
   ]
  },
  {
   "cell_type": "markdown",
   "metadata": {},
   "source": [
    "#### 17. Dada una lista de calificaciones de estudiantes `[85, 92, 78, 90, 88]`, clasifica a cada estudiante como \"Aprobado\" si la calificación es mayor o igual a `80` y como \"Reprobado\" si es menor a `80`. Imprime el nombre de cada estudiante junto con su estado utilizando un bucle `for` y una estructura `if-else`.\n"
   ]
  },
  {
   "cell_type": "code",
   "execution_count": 70,
   "metadata": {},
   "outputs": [
    {
     "data": {
      "text/plain": [
       "{'Elena': 'Aprobado',\n",
       " 'Pablo': 'Aprobado',\n",
       " 'Jose': 'Reprobado',\n",
       " 'Cris': 'Aprobado',\n",
       " 'Marta': 'Aprobado'}"
      ]
     },
     "execution_count": 70,
     "metadata": {},
     "output_type": "execute_result"
    }
   ],
   "source": [
    "notas = [85, 92, 78, 90, 88]\n",
    "estudiantes = [\"Elena\", \"Pablo\", \"Jose\", \"Cris\", \"Marta\"]\n",
    "calificaciones = dict()\n",
    "\n",
    "for i in range(len(notas)):\n",
    "    if notas [i] >= 80:\n",
    "        calificaciones[estudiantes[i]] = \"Aprobado\"\n",
    "    else:\n",
    "        calificaciones[estudiantes[i]] = \"Reprobado\"\n",
    "\n",
    "calificaciones"
   ]
  },
  {
   "cell_type": "markdown",
   "metadata": {},
   "source": [
    "\n",
    "#### 18. Escribe un programa que solicite al usuario dos números enteros positivos (`inicio`, `fin`) y otro número entero positivo (`divisor`). Encuentra el número más grande en el rango desde `inicio` hasta `fin` que sea divisible por `divisor`. Utiliza un bucle `for` y una estructura `if-else` para verificar y mantener el registro del número más grande divisible por el divisor dado.\n"
   ]
  },
  {
   "cell_type": "code",
   "execution_count": 77,
   "metadata": {},
   "outputs": [
    {
     "name": "stdout",
     "output_type": "stream",
     "text": [
      "Primer número: 2\n",
      "Segundo número: 10\n",
      "Tercer número: 3\n",
      "El número más grande en el rango entre 2 y 10 divisible por 3 es 9\n"
     ]
    }
   ],
   "source": [
    "try:\n",
    "    num1 = input(\"Introduzca el primer numero: \")\n",
    "    num1 = int(num1)\n",
    "    print(f\"Primer número: {num1}\")\n",
    "\n",
    "    num2 = input(\"Introduzca el segundo numero: \")\n",
    "    num2 = int(num2)\n",
    "    print(f\"Segundo número: {num2}\")\n",
    "\n",
    "    if num2 < num1:\n",
    "        print(\"El segundo número debe ser mayor que el primero\")\n",
    "\n",
    "    else:\n",
    "        num3 = input(\"Introduzca el tercer numero: \")\n",
    "        num3 = int(num3)\n",
    "        print(f\"Tercer número: {num3}\")\n",
    "\n",
    "        if num1 <1 or num2 <1 or num3 < 0:\n",
    "            print(\"Todos los números deben ser enteros y positivos\")\n",
    "\n",
    "        else:\n",
    "            for i in range(num1,num2+1):\n",
    "                if i % num3 == 0:\n",
    "                    divisible = i\n",
    "\n",
    "            print(f\"El número más grande en el rango entre {num1} y {num2} divisible por {num3} es {divisible}\")\n",
    "\n",
    "\n",
    "except ValueError:\n",
    "    print(\"Error: El número debe ser entero y positivo\")"
   ]
  }
 ],
 "metadata": {
  "kernelspec": {
   "display_name": "hackio",
   "language": "python",
   "name": "python3"
  },
  "language_info": {
   "codemirror_mode": {
    "name": "ipython",
    "version": 3
   },
   "file_extension": ".py",
   "mimetype": "text/x-python",
   "name": "python",
   "nbconvert_exporter": "python",
   "pygments_lexer": "ipython3",
   "version": "3.12.4"
  }
 },
 "nbformat": 4,
 "nbformat_minor": 2
}
